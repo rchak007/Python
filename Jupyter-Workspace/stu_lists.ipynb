{
 "cells": [
  {
   "cell_type": "code",
   "execution_count": 1,
   "id": "1fb1d311",
   "metadata": {},
   "outputs": [
    {
     "data": {
      "text/plain": [
       "'\\nStudent Do: Grocery List.\\n\\nThis script showcases basic operations of Python Lists to help Sally\\norganize her grocery shopping list.\\n'"
      ]
     },
     "execution_count": 1,
     "metadata": {},
     "output_type": "execute_result"
    }
   ],
   "source": [
    "# -*- coding: utf-8 -*-\n",
    "\"\"\"\n",
    "Student Do: Grocery List.\n",
    "\n",
    "This script showcases basic operations of Python Lists to help Sally\n",
    "organize her grocery shopping list.\n",
    "\"\"\"\n",
    "\n",
    "# @TODO: Create a list of groceries\n",
    "\n",
    "apple_pie = ['Water', 'Butter', 'Eggs', 'Apples', 'Cinnamon', 'Sugar', 'Milk']\n",
    "\n",
    "\n",
    "\n",
    "# @TODO: Find the first two items on the list\n",
    "\n",
    "\n",
    "\n",
    "\n",
    "# @TODO: Find the last five items on the list\n",
    "\n",
    "\n",
    "\n",
    "\n",
    "# @TODO: Find every other item on the list, starting from the second item\n",
    "\n",
    "\n",
    "\n",
    "\n",
    "# @TODO: Add an element to the end of the list\n",
    "\n",
    "\n",
    "\n",
    "\n",
    "\n",
    "# @TODO: Changes a specified element within the list at the given index\n",
    "\n",
    "\n",
    "\n",
    "\n",
    "\n",
    "# @TODO: Calculate how many items you have in the list\n",
    "\n"
   ]
  },
  {
   "cell_type": "code",
   "execution_count": 2,
   "id": "591b7e52",
   "metadata": {},
   "outputs": [],
   "source": [
    "# @TODO: Create a list of groceries\n",
    "\n",
    "apple_pie = ['Water', 'Butter', 'Eggs', 'Apples', 'Cinnamon', 'Sugar', 'Milk']"
   ]
  },
  {
   "cell_type": "code",
   "execution_count": 3,
   "id": "a17bddf5",
   "metadata": {},
   "outputs": [
    {
     "data": {
      "text/plain": [
       "['Water', 'Butter', 'Eggs', 'Apples', 'Cinnamon', 'Sugar', 'Milk']"
      ]
     },
     "execution_count": 3,
     "metadata": {},
     "output_type": "execute_result"
    }
   ],
   "source": [
    "apple_pie"
   ]
  },
  {
   "cell_type": "code",
   "execution_count": 7,
   "id": "5d255851",
   "metadata": {},
   "outputs": [
    {
     "data": {
      "text/plain": [
       "['Water', 'Butter']"
      ]
     },
     "execution_count": 7,
     "metadata": {},
     "output_type": "execute_result"
    }
   ],
   "source": [
    "apple_pie[0:2]"
   ]
  },
  {
   "cell_type": "code",
   "execution_count": 8,
   "id": "e4373cf4",
   "metadata": {},
   "outputs": [
    {
     "data": {
      "text/plain": [
       "['Eggs', 'Apples', 'Cinnamon', 'Sugar', 'Milk']"
      ]
     },
     "execution_count": 8,
     "metadata": {},
     "output_type": "execute_result"
    }
   ],
   "source": [
    "apple_pie[-5:]"
   ]
  },
  {
   "cell_type": "code",
   "execution_count": 20,
   "id": "668c2ad9",
   "metadata": {},
   "outputs": [
    {
     "data": {
      "text/plain": [
       "['Water', 'Butter', 'Eggs', 'Apples', 'Cinnamon', 'Sugar', 'Milk', 'flour']"
      ]
     },
     "execution_count": 20,
     "metadata": {},
     "output_type": "execute_result"
    }
   ],
   "source": [
    "apple_pie"
   ]
  },
  {
   "cell_type": "code",
   "execution_count": 19,
   "id": "8338e988",
   "metadata": {},
   "outputs": [
    {
     "name": "stdout",
     "output_type": "stream",
     "text": [
      "Butter\n",
      "Apples\n",
      "Sugar\n",
      "flour\n"
     ]
    }
   ],
   "source": [
    "for i in apple_pie:\n",
    "    idx = apple_pie.index(i)\n",
    "    rem = idx % 2\n",
    "    if rem == 1:\n",
    "        print(i)"
   ]
  },
  {
   "cell_type": "code",
   "execution_count": 16,
   "id": "23ff0be3",
   "metadata": {},
   "outputs": [],
   "source": [
    "apple_pie.append('flour')"
   ]
  },
  {
   "cell_type": "code",
   "execution_count": 17,
   "id": "b213411c",
   "metadata": {},
   "outputs": [
    {
     "data": {
      "text/plain": [
       "['Water', 'Butter', 'Eggs', 'Apples', 'Cinnamon', 'Sugar', 'Milk', 'flour']"
      ]
     },
     "execution_count": 17,
     "metadata": {},
     "output_type": "execute_result"
    }
   ],
   "source": [
    "apple_pie"
   ]
  },
  {
   "cell_type": "code",
   "execution_count": 21,
   "id": "6bc7643c",
   "metadata": {},
   "outputs": [
    {
     "data": {
      "text/plain": [
       "['Water', 'Butter', 'Eggs', 'Apples', 'Cinnamon', 'Sugar', 'Milk', 'flour']"
      ]
     },
     "execution_count": 21,
     "metadata": {},
     "output_type": "execute_result"
    }
   ],
   "source": [
    "apple_pie"
   ]
  },
  {
   "cell_type": "code",
   "execution_count": null,
   "id": "cc7162d4",
   "metadata": {},
   "outputs": [],
   "source": []
  }
 ],
 "metadata": {
  "kernelspec": {
   "display_name": "Python 3",
   "language": "python",
   "name": "python3"
  },
  "language_info": {
   "codemirror_mode": {
    "name": "ipython",
    "version": 3
   },
   "file_extension": ".py",
   "mimetype": "text/x-python",
   "name": "python",
   "nbconvert_exporter": "python",
   "pygments_lexer": "ipython3",
   "version": "3.8.5"
  }
 },
 "nbformat": 4,
 "nbformat_minor": 5
}
