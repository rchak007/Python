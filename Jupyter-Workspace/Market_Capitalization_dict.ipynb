{
 "cells": [
  {
   "cell_type": "code",
   "execution_count": 1,
   "id": "93973600",
   "metadata": {},
   "outputs": [
    {
     "data": {
      "text/plain": [
       "'\\nStudent Activity: Market Capitalization.\\n\\nThis script showcases the use of Python Dicts to determine the\\nbank names associated with the corresponding market cap ranges.\\n'"
      ]
     },
     "execution_count": 1,
     "metadata": {},
     "output_type": "execute_result"
    }
   ],
   "source": [
    "# -*- coding: utf-8 -*-\n",
    "\"\"\"\n",
    "Student Activity: Market Capitalization.\n",
    "\n",
    "This script showcases the use of Python Dicts to determine the\n",
    "bank names associated with the corresponding market cap ranges.\n",
    "\"\"\"\n",
    "\n",
    "# Banks and Market Caps\n",
    "#-----------------------\n",
    "# JP Morgan Chase: 327\n",
    "# Bank of America: 302\n",
    "# Citigroup: 173\n",
    "# Wells Fargo: 273\n",
    "# Goldman Sachs: 87\n",
    "# Morgan Stanley: 72\n",
    "# U.S. Bancorp: 83\n",
    "# TD Bank: 108\n",
    "# PNC Financial Services: 67\n",
    "# Capital One: 47\n",
    "# FNB Corporation: 4\n",
    "# First Hawaiian Bank: 3\n",
    "# Ally Financial: 12\n",
    "# Wachovia: 145\n",
    "# Republic Bancorp: .97\n",
    "\n",
    "# @TODO: Initialize a dictionary of banks and market caps (in billions)\n",
    "\n",
    "\n",
    "\n",
    "\n",
    "# @TODO: Change the market cap for 'Citigroup'\n",
    "\n",
    "\n",
    "# @TODO: Add a new bank and market cap pair\n",
    "\n",
    "\n",
    "# @TODO: Remove a bank from the dictionary\n",
    "\n",
    "\n",
    "# @TODO: Print the modified dictionary\n"
   ]
  },
  {
   "cell_type": "code",
   "execution_count": 2,
   "id": "26ef6424",
   "metadata": {},
   "outputs": [],
   "source": [
    "# @TODO: Initialize a dictionary of banks and market caps (in billions)\n",
    "bank_market_cap = {\n",
    "     \"JP Morgan Chase\": 327,\n",
    "  \"Bank of America\": 302,\n",
    "   \"Citigroup\": 173,\n",
    "   \"Wells Fargo\": 273,\n",
    "   \"Goldman Sachs\": 87,\n",
    " \"Morgan Stanley\": 72,\n",
    "  \"U.S. Bancorp\": 83,\n",
    "    \"TD Bank\": 108,\n",
    "  \"PNC Financial Services\": 67,\n",
    "  \"Capital One\": 47,\n",
    "  \"FNB Corporation\": 4,\n",
    "  \"First Hawaiian Bank\": 3,\n",
    "  \"Ally Financial\": 12,\n",
    " \"Wachovia\": 145,\n",
    "  \"Republic Bancorp\": .97\n",
    "\n",
    "    \n",
    "}"
   ]
  },
  {
   "cell_type": "code",
   "execution_count": 3,
   "id": "cee5f758",
   "metadata": {},
   "outputs": [
    {
     "name": "stdout",
     "output_type": "stream",
     "text": [
      "{'JP Morgan Chase': 327, 'Bank of America': 302, 'Citigroup': 173, 'Wells Fargo': 273, 'Goldman Sachs': 87, 'Morgan Stanley': 72, 'U.S. Bancorp': 83, 'TD Bank': 108, 'PNC Financial Services': 67, 'Capital One': 47, 'FNB Corporation': 4, 'First Hawaiian Bank': 3, 'Ally Financial': 12, 'Wachovia': 145, 'Republic Bancorp': 0.97}\n"
     ]
    }
   ],
   "source": [
    "print(bank_market_cap)"
   ]
  },
  {
   "cell_type": "code",
   "execution_count": 4,
   "id": "6cf79661",
   "metadata": {},
   "outputs": [
    {
     "data": {
      "text/plain": [
       "dict"
      ]
     },
     "execution_count": 4,
     "metadata": {},
     "output_type": "execute_result"
    }
   ],
   "source": [
    "type(bank_market_cap)"
   ]
  },
  {
   "cell_type": "code",
   "execution_count": 35,
   "id": "81c2bac9",
   "metadata": {},
   "outputs": [],
   "source": [
    "# @TODO: Change the market cap for 'Citigroup'\n",
    "bank_market_cap['Citigroup'] = 170"
   ]
  },
  {
   "cell_type": "code",
   "execution_count": 8,
   "id": "5533c777",
   "metadata": {},
   "outputs": [
    {
     "name": "stdout",
     "output_type": "stream",
     "text": [
      "{'JP Morgan Chase': 327, 'Bank of America': 302, 'Citigroup': 200, 'Wells Fargo': 273, 'Goldman Sachs': 87, 'Morgan Stanley': 72, 'U.S. Bancorp': 83, 'TD Bank': 108, 'PNC Financial Services': 67, 'Capital One': 47, 'FNB Corporation': 4, 'First Hawaiian Bank': 3, 'Ally Financial': 12, 'Wachovia': 145, 'Republic Bancorp': 0.97}\n"
     ]
    }
   ],
   "source": [
    "print(bank_market_cap)"
   ]
  },
  {
   "cell_type": "code",
   "execution_count": 38,
   "id": "1c6314f4",
   "metadata": {},
   "outputs": [],
   "source": [
    "# @TODO: Add a new bank and market cap pair\n",
    "bank_market_cap['American Express'] = 33"
   ]
  },
  {
   "cell_type": "code",
   "execution_count": 39,
   "id": "96cd5063",
   "metadata": {},
   "outputs": [
    {
     "name": "stdout",
     "output_type": "stream",
     "text": [
      "{'JP Morgan Chase': 327, 'Bank of America': 302, 'Citigroup': 170, 'Wells Fargo': 273, 'Goldman Sachs': 87, 'Morgan Stanley': 72, 'U.S. Bancorp': 83, 'TD Bank': 108, 'PNC Financial Services': 67, 'Capital One': 47, 'FNB Corporation': 4, 'First Hawaiian Bank': 3, 'Ally Financial': 12, 'Republic Bancorp': 0.97, 'Sofi': 500, 'American Express': 33}\n"
     ]
    }
   ],
   "source": [
    "print(bank_market_cap)"
   ]
  },
  {
   "cell_type": "code",
   "execution_count": 11,
   "id": "a8016ad0",
   "metadata": {},
   "outputs": [],
   "source": [
    "# @TODO: Remove a bank from the dictionary\n",
    "del bank_market_cap['Wachovia']"
   ]
  },
  {
   "cell_type": "code",
   "execution_count": 40,
   "id": "9da72f7f",
   "metadata": {},
   "outputs": [],
   "source": [
    "del bank_market_cap['Sofi']"
   ]
  },
  {
   "cell_type": "code",
   "execution_count": 41,
   "id": "e0d6de36",
   "metadata": {},
   "outputs": [
    {
     "name": "stdout",
     "output_type": "stream",
     "text": [
      "{'JP Morgan Chase': 327, 'Bank of America': 302, 'Citigroup': 170, 'Wells Fargo': 273, 'Goldman Sachs': 87, 'Morgan Stanley': 72, 'U.S. Bancorp': 83, 'TD Bank': 108, 'PNC Financial Services': 67, 'Capital One': 47, 'FNB Corporation': 4, 'First Hawaiian Bank': 3, 'Ally Financial': 12, 'Republic Bancorp': 0.97, 'American Express': 33}\n"
     ]
    }
   ],
   "source": [
    "print(bank_market_cap)"
   ]
  },
  {
   "cell_type": "code",
   "execution_count": 13,
   "id": "6658084a",
   "metadata": {},
   "outputs": [
    {
     "name": "stdout",
     "output_type": "stream",
     "text": [
      "{'JP Morgan Chase': 327, 'Bank of America': 302, 'Citigroup': 200, 'Wells Fargo': 273, 'Goldman Sachs': 87, 'Morgan Stanley': 72, 'U.S. Bancorp': 83, 'TD Bank': 108, 'PNC Financial Services': 67, 'Capital One': 47, 'FNB Corporation': 4, 'First Hawaiian Bank': 3, 'Ally Financial': 12, 'Republic Bancorp': 0.97, 'Sofi': 500}\n"
     ]
    }
   ],
   "source": [
    "# @TODO: Print the modified dictionary\n",
    "print(bank_market_cap)"
   ]
  },
  {
   "cell_type": "code",
   "execution_count": 59,
   "id": "51c60c6d",
   "metadata": {},
   "outputs": [
    {
     "name": "stdout",
     "output_type": "stream",
     "text": [
      "327\n",
      "302\n",
      "170\n",
      "273\n",
      "87\n",
      "72\n",
      "83\n",
      "108\n",
      "67\n",
      "47\n",
      "4\n",
      "3\n",
      "12\n",
      "0.97\n",
      "33\n",
      "Total Market Capitalization: 1588.97\n",
      "Total Numer of Banks: 15\n",
      "Average Market Capitalization: 105.93133333333334\n",
      "Largest Bank  JP Morgan Chase\n",
      "Smallest Bank  Republic Bancorp\n",
      "--------------------------------------------\n",
      "Mega Cap Banks ['JP Morgan Chase', 'Bank of America']\n",
      "Large Cap Banks ['Citigroup', 'Wells Fargo', 'Goldman Sachs', 'Morgan Stanley', 'U.S. Bancorp', 'TD Bank', 'PNC Financial Services', 'Capital One', 'Ally Financial', 'American Express']\n",
      "Mid Cap Banks ['FNB Corporation', 'First Hawaiian Bank']\n",
      "Small Cap Banks ['Republic Bancorp']\n"
     ]
    }
   ],
   "source": [
    "#Total market capitalization\n",
    "market_capitalization = 0\n",
    "i_cnt = 0 \n",
    "avg_mark_cap = 0 \n",
    "largest_bank = 0\n",
    "smallest_bank = 0\n",
    "mega_cap = []\n",
    "large_cap = []\n",
    "mid_cap = []\n",
    "small_cap =  []\n",
    "for key, val in bank_market_cap.items():\n",
    "    print(val)\n",
    "    i_cnt = i_cnt + 1\n",
    "    market_capitalization += val\n",
    "    if val >= 300:\n",
    "        mega_cap.append(key)\n",
    "    elif val >= 10:\n",
    "        large_cap.append(key)\n",
    "    elif val >= 2:\n",
    "        mid_cap.append(key)\n",
    "    else:\n",
    "        small_cap.append(key)\n",
    "            \n",
    "    if i_cnt == 1:\n",
    "        largest_bank = val\n",
    "        largest_bank_name = key\n",
    "        smallest_bank = val\n",
    "        smallest_bank_name = key\n",
    "    else:\n",
    "        if val > largest_bank:\n",
    "            largest_bank = val\n",
    "            largest_bank_name = key\n",
    "        if val < smallest_bank:\n",
    "            smallest_bank = val\n",
    "            smallest_bank_name = key\n",
    "print('Total Market Capitalization:', market_capitalization)\n",
    "print('Total Numer of Banks:', i_cnt)\n",
    "avg_mark_cap = market_capitalization / i_cnt\n",
    "print('Average Market Capitalization:', avg_mark_cap)\n",
    "print('Largest Bank ', largest_bank_name)\n",
    "print('Smallest Bank ', smallest_bank_name)\n",
    "print('--------------------------------------------')\n",
    "print('Mega Cap Banks', mega_cap)\n",
    "print('Large Cap Banks', large_cap)\n",
    "print('Mid Cap Banks', mid_cap)\n",
    "print('Small Cap Banks', small_cap)"
   ]
  },
  {
   "cell_type": "code",
   "execution_count": 29,
   "id": "333889c8",
   "metadata": {},
   "outputs": [
    {
     "name": "stdout",
     "output_type": "stream",
     "text": [
      "15\n"
     ]
    }
   ],
   "source": [
    "#Total number of banks\n",
    "print(i_cnt)"
   ]
  },
  {
   "cell_type": "code",
   "execution_count": null,
   "id": "1de6a83f",
   "metadata": {},
   "outputs": [],
   "source": []
  },
  {
   "cell_type": "code",
   "execution_count": null,
   "id": "b2e8acb6",
   "metadata": {},
   "outputs": [],
   "source": []
  }
 ],
 "metadata": {
  "kernelspec": {
   "display_name": "Python 3",
   "language": "python",
   "name": "python3"
  },
  "language_info": {
   "codemirror_mode": {
    "name": "ipython",
    "version": 3
   },
   "file_extension": ".py",
   "mimetype": "text/x-python",
   "name": "python",
   "nbconvert_exporter": "python",
   "pygments_lexer": "ipython3",
   "version": "3.8.5"
  }
 },
 "nbformat": 4,
 "nbformat_minor": 5
}
