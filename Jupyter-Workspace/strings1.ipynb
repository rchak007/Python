{
 "cells": [
  {
   "cell_type": "code",
   "execution_count": 1,
   "id": "0c7eea63",
   "metadata": {},
   "outputs": [
    {
     "name": "stdout",
     "output_type": "stream",
     "text": [
      "i\n",
      "2\n",
      "hi hello\n"
     ]
    }
   ],
   "source": [
    "s = 'hi'\n",
    "print(s[1])\n",
    "print(len(s))\n",
    "print(s + ' hello')"
   ]
  },
  {
   "cell_type": "code",
   "execution_count": 3,
   "id": "b99b6956",
   "metadata": {},
   "outputs": [],
   "source": [
    "pi = 3.14\n",
    "text = 'the value of pi is ' + str(pi)"
   ]
  },
  {
   "cell_type": "code",
   "execution_count": 4,
   "id": "e06314c1",
   "metadata": {},
   "outputs": [
    {
     "name": "stdout",
     "output_type": "stream",
     "text": [
      "the value of pi is 3.14\n"
     ]
    }
   ],
   "source": [
    "print(text)"
   ]
  },
  {
   "cell_type": "code",
   "execution_count": 5,
   "id": "4c41cdac",
   "metadata": {},
   "outputs": [
    {
     "data": {
      "text/plain": [
       "1"
      ]
     },
     "execution_count": 5,
     "metadata": {},
     "output_type": "execute_result"
    }
   ],
   "source": [
    "6//5"
   ]
  },
  {
   "cell_type": "code",
   "execution_count": 6,
   "id": "bddb5852",
   "metadata": {},
   "outputs": [
    {
     "data": {
      "text/plain": [
       "1.2"
      ]
     },
     "execution_count": 6,
     "metadata": {},
     "output_type": "execute_result"
    }
   ],
   "source": [
    "6/5"
   ]
  },
  {
   "cell_type": "code",
   "execution_count": 7,
   "id": "de345358",
   "metadata": {},
   "outputs": [
    {
     "name": "stdout",
     "output_type": "stream",
     "text": [
      "this is/t\\n\n"
     ]
    }
   ],
   "source": [
    "raw = r'this is/t\\n'\n",
    "print(raw)"
   ]
  },
  {
   "cell_type": "code",
   "execution_count": 8,
   "id": "ed2cc5a4",
   "metadata": {},
   "outputs": [
    {
     "name": "stdout",
     "output_type": "stream",
     "text": [
      " 1st line asjknfaklnaelkfnaef\n",
      "       2nd line asdaskdn\n",
      "       3rd line \n"
     ]
    }
   ],
   "source": [
    "multi = \"\"\" 1st line asjknfaklnaelkfnaef\n",
    "       2nd line asdaskdn\n",
    "       3rd line \"\"\"\n",
    "print(multi)"
   ]
  },
  {
   "cell_type": "code",
   "execution_count": 9,
   "id": "e96edc67",
   "metadata": {},
   "outputs": [
    {
     "data": {
      "text/plain": [
       "'1st line asjknfaklnaelkfnaef\\n       2nd line asdaskdn\\n       3rd line'"
      ]
     },
     "execution_count": 9,
     "metadata": {},
     "output_type": "execute_result"
    }
   ],
   "source": [
    "multi.strip()"
   ]
  },
  {
   "cell_type": "code",
   "execution_count": 12,
   "id": "40c734b2",
   "metadata": {},
   "outputs": [],
   "source": [
    "text = (\n",
    "    \"%d little pigs come out, or I'll %s, and I'll %s, and I'll blow your %s down.\"\n",
    "    % (3, 'huff', 'puff', 'house'))"
   ]
  },
  {
   "cell_type": "code",
   "execution_count": 11,
   "id": "58b97746",
   "metadata": {},
   "outputs": [
    {
     "name": "stdout",
     "output_type": "stream",
     "text": [
      "3 little pigs come out, or I'll huff, and I'll puff, and I'll blow your house down.\n"
     ]
    }
   ],
   "source": [
    "print(text)"
   ]
  },
  {
   "cell_type": "code",
   "execution_count": 13,
   "id": "19bdb786",
   "metadata": {},
   "outputs": [],
   "source": [
    "text = (\n",
    "    \"%d little pigs come out, \"\n",
    "    \"or I'll %s, and I'll %s, \"\n",
    "    \"and I'll blow your %s down.\"\n",
    "    % (3, 'huff', 'puff', 'house'))"
   ]
  },
  {
   "cell_type": "code",
   "execution_count": 14,
   "id": "10cf0dd1",
   "metadata": {},
   "outputs": [
    {
     "name": "stdout",
     "output_type": "stream",
     "text": [
      "3 little pigs come out, or I'll huff, and I'll puff, and I'll blow your house down.\n"
     ]
    }
   ],
   "source": [
    "print(text)"
   ]
  },
  {
   "cell_type": "code",
   "execution_count": null,
   "id": "6c479383",
   "metadata": {},
   "outputs": [],
   "source": []
  }
 ],
 "metadata": {
  "kernelspec": {
   "display_name": "Python 3",
   "language": "python",
   "name": "python3"
  },
  "language_info": {
   "codemirror_mode": {
    "name": "ipython",
    "version": 3
   },
   "file_extension": ".py",
   "mimetype": "text/x-python",
   "name": "python",
   "nbconvert_exporter": "python",
   "pygments_lexer": "ipython3",
   "version": "3.8.5"
  }
 },
 "nbformat": 4,
 "nbformat_minor": 5
}
