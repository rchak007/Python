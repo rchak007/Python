{
 "cells": [
  {
   "cell_type": "code",
   "execution_count": 1,
   "id": "4fa1de09",
   "metadata": {},
   "outputs": [
    {
     "data": {
      "text/plain": [
       "'\\nConditionally Yours\\n\\nPseudocode:\\n\\n\\n'"
      ]
     },
     "execution_count": 1,
     "metadata": {},
     "output_type": "execute_result"
    }
   ],
   "source": [
    "\"\"\"\n",
    "Conditionally Yours\n",
    "\n",
    "Pseudocode:\n",
    "\n",
    "\n",
    "\"\"\"\n"
   ]
  },
  {
   "cell_type": "code",
   "execution_count": 3,
   "id": "f7e1eb3a",
   "metadata": {},
   "outputs": [],
   "source": [
    "#Pseudocode variable declaration."
   ]
  },
  {
   "cell_type": "code",
   "execution_count": 16,
   "id": "81feca97",
   "metadata": {},
   "outputs": [],
   "source": [
    "#Pseudocode percent_increase calculation.\n",
    "\n",
    "# Increase = Current Price - Original Price\n",
    "#Percent Increase = Increase / Original x 100\n",
    "current_price = 10\n",
    "original_price = 50\n",
    "increase = current_price - original_price\n",
    "percent_increase = increase / original_price * 100\n"
   ]
  },
  {
   "cell_type": "code",
   "execution_count": 9,
   "id": "985415cb",
   "metadata": {},
   "outputs": [],
   "source": [
    "#Pseudocode if-else logic to determine the buy or sell recommendation.\n",
    "\n",
    "# if percecent_increase is 20% then buy\n",
    "# if percecent_increase is -20% then sell"
   ]
  },
  {
   "cell_type": "code",
   "execution_count": 17,
   "id": "2646e168",
   "metadata": {},
   "outputs": [
    {
     "name": "stdout",
     "output_type": "stream",
     "text": [
      "-80.0\n"
     ]
    }
   ],
   "source": [
    "print(percent_increase)"
   ]
  },
  {
   "cell_type": "code",
   "execution_count": 18,
   "id": "ab2911ec",
   "metadata": {},
   "outputs": [],
   "source": [
    "if percent_increase >= 20:\n",
    "    print('buy')"
   ]
  },
  {
   "cell_type": "code",
   "execution_count": 19,
   "id": "08cb8e1c",
   "metadata": {},
   "outputs": [
    {
     "name": "stdout",
     "output_type": "stream",
     "text": [
      "sell\n"
     ]
    }
   ],
   "source": [
    "if percent_increase <= -20:\n",
    "    print('sell')"
   ]
  },
  {
   "cell_type": "code",
   "execution_count": null,
   "id": "025e75a0",
   "metadata": {},
   "outputs": [],
   "source": []
  }
 ],
 "metadata": {
  "kernelspec": {
   "display_name": "Python 3",
   "language": "python",
   "name": "python3"
  },
  "language_info": {
   "codemirror_mode": {
    "name": "ipython",
    "version": 3
   },
   "file_extension": ".py",
   "mimetype": "text/x-python",
   "name": "python",
   "nbconvert_exporter": "python",
   "pygments_lexer": "ipython3",
   "version": "3.8.5"
  }
 },
 "nbformat": 4,
 "nbformat_minor": 5
}
