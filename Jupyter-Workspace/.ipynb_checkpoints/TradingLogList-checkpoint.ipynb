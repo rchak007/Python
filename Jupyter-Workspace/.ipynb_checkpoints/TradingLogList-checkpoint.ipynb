{
 "cells": [
  {
   "cell_type": "code",
   "execution_count": 1,
   "id": "6e4ef046",
   "metadata": {},
   "outputs": [],
   "source": [
    "# -*- coding: utf-8 -*-\n",
    "\"\"\"\n",
    "Student Do: Trading Log.\n",
    "\n",
    "This script demonstrates how to perform basic analysis of trading profits/losses\n",
    "over the course of a month (20 business days).\n",
    "\"\"\"\n",
    "\n",
    "# @TODO: Initialize the metric variables\n",
    "\n",
    "\n",
    "\n",
    "\n",
    "# @TODO: Initialize lists to hold profitable and unprofitable day profits/losses\n",
    "\n",
    "\n",
    "\n",
    "\n",
    "# List of trading profits/losses\n",
    "trading_pnl = [ -224,  352, 252, 354, -544,\n",
    "                -650,   56, 123, -43,  254,\n",
    "                 325, -123,  47, 321,  123,\n",
    "                 133, -151, 613, 232, -311 ]\n",
    "\n",
    "# @TODO: Iterate over each element of the list\n",
    "\n",
    "\n",
    "    # @TODO: Cumulatively sum up the total and count\n",
    "\n",
    "\n",
    "    # @TODO: Write logic to determine minimum and maximum values\n",
    "\n",
    "\n",
    "\n",
    "\n",
    "\n",
    "\n",
    "    # @TODO: Write logic to determine profitable vs. unprofitable days\n",
    "\n",
    "\n",
    "\n",
    "\n",
    "\n",
    "# @TODO: Calculate the average\n",
    "\n",
    "\n",
    "# @TODO: Calculate count metrics\n",
    "\n",
    "\n",
    "# @TODO: Calculate percentage metrics\n",
    "\n",
    "\n",
    "\n",
    "# @TODO: Print out the summary statistics\n"
   ]
  },
  {
   "cell_type": "code",
   "execution_count": 24,
   "id": "b48955ae",
   "metadata": {},
   "outputs": [
    {
     "name": "stdout",
     "output_type": "stream",
     "text": [
      "[-224, 352, 252, 354, -544, -650, 56, 123, -43, 254, 325, -123, 47, 321, 123, 133, -151, 613, 232, -311]\n"
     ]
    }
   ],
   "source": [
    "# @TODO: Iterate over each element of the list\n",
    "print(trading_pnl)"
   ]
  },
  {
   "cell_type": "code",
   "execution_count": 9,
   "id": "a4cb0426",
   "metadata": {},
   "outputs": [
    {
     "name": "stdout",
     "output_type": "stream",
     "text": [
      "1139\n"
     ]
    }
   ],
   "source": [
    "print(sum(trading_pnl))"
   ]
  },
  {
   "cell_type": "code",
   "execution_count": 20,
   "id": "e96503f9",
   "metadata": {},
   "outputs": [
    {
     "name": "stdout",
     "output_type": "stream",
     "text": [
      "-650\n",
      "613\n",
      "56.95\n"
     ]
    }
   ],
   "source": [
    "cnt = 0\n",
    "min_val = 0\n",
    "max_val = 0\n",
    "profit_day = 0\n",
    "loss_day = 0\n",
    "for t in trading_pnl:\n",
    "    if t < 0:\n",
    "        loss_day += 1\n",
    "    if t > 0:\n",
    "        profit_day += 1\n",
    "    cnt += 1\n",
    "    if cnt == 0:\n",
    "      min_val = t\n",
    "    elif t < min_val:\n",
    "        min_val = t\n",
    "    if cnt == 0:\n",
    "      max_val = t\n",
    "    elif t > max_val:\n",
    "        max_val = t\n",
    "\n",
    "print(min_val)\n",
    "print(max_val)\n",
    "print(sum(trading_pnl)/cnt)\n",
    "    "
   ]
  },
  {
   "cell_type": "code",
   "execution_count": 22,
   "id": "3767fd13",
   "metadata": {},
   "outputs": [
    {
     "name": "stdout",
     "output_type": "stream",
     "text": [
      "jkhasdfkashf 20\n"
     ]
    }
   ],
   "source": [
    "print(f\"jkhasdfkashf {cnt}\")"
   ]
  },
  {
   "cell_type": "code",
   "execution_count": null,
   "id": "6f69f756",
   "metadata": {},
   "outputs": [],
   "source": []
  }
 ],
 "metadata": {
  "kernelspec": {
   "display_name": "Python 3",
   "language": "python",
   "name": "python3"
  },
  "language_info": {
   "codemirror_mode": {
    "name": "ipython",
    "version": 3
   },
   "file_extension": ".py",
   "mimetype": "text/x-python",
   "name": "python",
   "nbconvert_exporter": "python",
   "pygments_lexer": "ipython3",
   "version": "3.8.5"
  }
 },
 "nbformat": 4,
 "nbformat_minor": 5
}
