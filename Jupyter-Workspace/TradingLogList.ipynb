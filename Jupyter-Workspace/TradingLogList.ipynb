{
 "cells": [
  {
   "cell_type": "code",
   "execution_count": 1,
   "id": "ddb0eec8",
   "metadata": {},
   "outputs": [],
   "source": [
    "# -*- coding: utf-8 -*-\n",
    "\"\"\"\n",
    "Student Do: Trading Log.\n",
    "\n",
    "This script demonstrates how to perform basic analysis of trading profits/losses\n",
    "over the course of a month (20 business days).\n",
    "\"\"\"\n",
    "\n",
    "# @TODO: Initialize the metric variables\n",
    "\n",
    "\n",
    "\n",
    "\n",
    "# @TODO: Initialize lists to hold profitable and unprofitable day profits/losses\n",
    "\n",
    "\n",
    "\n",
    "\n",
    "# List of trading profits/losses\n",
    "trading_pnl = [ -224,  352, 252, 354, -544,\n",
    "                -650,   56, 123, -43,  254,\n",
    "                 325, -123,  47, 321,  123,\n",
    "                 133, -151, 613, 232, -311 ]\n",
    "\n",
    "# @TODO: Iterate over each element of the list\n",
    "\n",
    "\n",
    "    # @TODO: Cumulatively sum up the total and count\n",
    "\n",
    "\n",
    "    # @TODO: Write logic to determine minimum and maximum values\n",
    "\n",
    "\n",
    "\n",
    "\n",
    "\n",
    "\n",
    "    # @TODO: Write logic to determine profitable vs. unprofitable days\n",
    "\n",
    "\n",
    "\n",
    "\n",
    "\n",
    "# @TODO: Calculate the average\n",
    "\n",
    "\n",
    "# @TODO: Calculate count metrics\n",
    "\n",
    "\n",
    "# @TODO: Calculate percentage metrics\n",
    "\n",
    "\n",
    "\n",
    "# @TODO: Print out the summary statistics\n"
   ]
  },
  {
   "cell_type": "code",
   "execution_count": 24,
   "id": "0afc0d29",
   "metadata": {},
   "outputs": [
    {
     "name": "stdout",
     "output_type": "stream",
     "text": [
      "[-224, 352, 252, 354, -544, -650, 56, 123, -43, 254, 325, -123, 47, 321, 123, 133, -151, 613, 232, -311]\n"
     ]
    }
   ],
   "source": [
    "# @TODO: Iterate over each element of the list\n",
    "print(trading_pnl)"
   ]
  },
  {
   "cell_type": "code",
   "execution_count": 9,
   "id": "e8fbf1fc",
   "metadata": {},
   "outputs": [
    {
     "name": "stdout",
     "output_type": "stream",
     "text": [
      "1139\n"
     ]
    }
   ],
   "source": [
    "print(sum(trading_pnl))"
   ]
  },
  {
   "cell_type": "code",
   "execution_count": 37,
   "id": "53ed3af4",
   "metadata": {},
   "outputs": [
    {
     "name": "stdout",
     "output_type": "stream",
     "text": [
      "Minimum value -650\n",
      "Max value 613  \n",
      "Avg 56.95\n",
      "Profit days 13\n"
     ]
    }
   ],
   "source": [
    "cnt = 0\n",
    "min_val = 0\n",
    "max_val = 0\n",
    "profit_day = []\n",
    "loss_day = []\n",
    "for t in trading_pnl:\n",
    "    if t < 0:\n",
    "        loss_day.append(t)\n",
    "    if t > 0:\n",
    "        profit_day.append(t)\n",
    "    cnt += 1\n",
    "    if cnt == 0:\n",
    "      min_val = t\n",
    "    elif t < min_val:\n",
    "        min_val = t\n",
    "    if cnt == 0:\n",
    "      max_val = t\n",
    "    elif t > max_val:\n",
    "        max_val = t\n",
    "\n",
    "print(f\"Minimum value {min_val}\")\n",
    "print(f\"Max value {max_val}  \")\n",
    "print(f\"Avg {sum(trading_pnl)/cnt}\" )\n",
    "print(f\"Profit days {len(profit_day)}\")"
   ]
  },
  {
   "cell_type": "code",
   "execution_count": 22,
   "id": "61d49ded",
   "metadata": {},
   "outputs": [
    {
     "name": "stdout",
     "output_type": "stream",
     "text": [
      "jkhasdfkashf 20\n"
     ]
    }
   ],
   "source": [
    "print(f\"jkhasdfkashf {cnt}\")"
   ]
  },
  {
   "cell_type": "code",
   "execution_count": null,
   "id": "be0e4c5e",
   "metadata": {},
   "outputs": [],
   "source": []
  }
 ],
 "metadata": {
  "kernelspec": {
   "display_name": "Python 3",
   "language": "python",
   "name": "python3"
  },
  "language_info": {
   "codemirror_mode": {
    "name": "ipython",
    "version": 3
   },
   "file_extension": ".py",
   "mimetype": "text/x-python",
   "name": "python",
   "nbconvert_exporter": "python",
   "pygments_lexer": "ipython3",
   "version": "3.8.5"
  }
 },
 "nbformat": 4,
 "nbformat_minor": 5
}
