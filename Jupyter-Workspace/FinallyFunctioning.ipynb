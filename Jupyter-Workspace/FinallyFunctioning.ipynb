{
 "cells": [
  {
   "cell_type": "code",
   "execution_count": 14,
   "id": "058b037d",
   "metadata": {},
   "outputs": [
    {
     "name": "stdout",
     "output_type": "stream",
     "text": [
      "cagr is  year 1 =  0.5517241379310345\n",
      "cagr is  year 2 = 0.04444444444444451\n",
      "cagr is  year 3 = 0.04106382978723411\n"
     ]
    },
    {
     "ename": "NameError",
     "evalue": "name 'growth_rates' is not defined",
     "output_type": "error",
     "traceback": [
      "\u001b[1;31m---------------------------------------------------------------------------\u001b[0m",
      "\u001b[1;31mNameError\u001b[0m                                 Traceback (most recent call last)",
      "\u001b[1;32m<ipython-input-14-8601ef8398f8>\u001b[0m in \u001b[0;36m<module>\u001b[1;34m\u001b[0m\n\u001b[0;32m     77\u001b[0m \u001b[1;33m\u001b[0m\u001b[0m\n\u001b[0;32m     78\u001b[0m \u001b[1;31m# Print growth_rates list\u001b[0m\u001b[1;33m\u001b[0m\u001b[1;33m\u001b[0m\u001b[1;33m\u001b[0m\u001b[0m\n\u001b[1;32m---> 79\u001b[1;33m \u001b[0mprint\u001b[0m\u001b[1;33m(\u001b[0m\u001b[1;34m\"Growth rates: \"\u001b[0m\u001b[1;33m,\u001b[0m \u001b[0mgrowth_rates\u001b[0m\u001b[1;33m)\u001b[0m\u001b[1;33m\u001b[0m\u001b[1;33m\u001b[0m\u001b[0m\n\u001b[0m",
      "\u001b[1;31mNameError\u001b[0m: name 'growth_rates' is not defined"
     ]
    }
   ],
   "source": [
    "\"\"\"\n",
    "Determine the Compound Annual Growth Rate for an investment\n",
    "\"\"\"\n",
    "\n",
    "# Declare a variable beginning_balance as a float\n",
    "beginning_balance = 29000.00\n",
    "\n",
    "# Declare a variable ending_balance as float\n",
    "ending_balance = 45000.00\n",
    "\n",
    "# Declare a variable years as an float\n",
    "years = 1.0\n",
    "\n",
    "# Define a function called calculate_compound_growth_rate with three arguments: beginning_balance, ending_balance, years. Function should output growth_rate.\n",
    "def calculate_compound_growth_rate(beg, end, yrs):\n",
    "    var1 = (end/beg)\n",
    "    var2 = 1/yrs\n",
    "    var3 = var1 ** var2\n",
    "    l_cagr = var3 - 1\n",
    "    return l_cagr\n",
    "\n",
    "# Call calculate_compound_growth_rate using beginning_balance, ending_balance, and years. Capture as year_one_growth.\n",
    "cagr1 = calculate_compound_growth_rate(beginning_balance, ending_balance, years)\n",
    "print(f'cagr is  year 1 =  {cagr1}')\n",
    "\n",
    "# Update beginning_balance and ending balance for year two, and then execute calculate_compound_growth_rate\n",
    "beginning_balance = 45000.00\n",
    "ending_balance = 47000.00\n",
    "years = 1.0\n",
    "\n",
    "# Call calculate_compound_growth_rate using beginning_balance, ending_balance, and years. Capture as year_two_growth.\n",
    "cagr2 = calculate_compound_growth_rate(beginning_balance, ending_balance, years)\n",
    "print(f'cagr is  year 2 = {cagr2}')\n",
    "\n",
    "# Update beginning_balance and ending balance for year three, and then execute calculate_compound_growth_rate\n",
    "beginning_balance = 47000.00\n",
    "ending_balance = 48930.00\n",
    "years = 1.0\n",
    "\n",
    "# Call calculate_compound_growth_rate using beginning_balance, ending_balance, and years. Capture as year_three_growth.\n",
    "cagr3 = calculate_compound_growth_rate(beginning_balance, ending_balance, years)\n",
    "print(f'cagr is  year 3 = {cagr3}')\n",
    "\n",
    "# Use Python round() function to round year_one_growth, year_two_growth, and year_three_growth. Capture these as new variables.\n",
    "cagr1 = round(cagr1, 2)\n",
    "\n",
    "\n",
    "\n",
    "# Print year_one_growth, year_two_growth, year_three_growth as percents using string formatting\n",
    "\n",
    "\n",
    "# Challenge\n",
    "\n",
    "# Create a global, empty list\n",
    "\n",
    "\n",
    "# Define a function called\n",
    "\n",
    "\n",
    "    # Populate growth_rates list using add() function\n",
    "\n",
    "\n",
    "# Call calculate_compound_growth_rate_list and populate growth_rates with 2016 values (beginning_balance and ending_balance)\n",
    "beginning_balance = 29000.00\n",
    "ending_balance = 45000.10\n",
    "\n",
    "\n",
    "# Call calculate_compound_growth_rate_list and populate growth_rates with 2017 values (beginning_balance and ending_balance)\n",
    "beginning_balance = 45000.00\n",
    "ending_balance = 47000.00\n",
    "\n",
    "\n",
    "# Call calculate_compound_growth_rate_list and populate growth_rates with 2018 values (beginning_balance and ending_balance)\n",
    "beginning_balance = 47000.00\n",
    "ending_balance = 48930.00\n",
    "\n",
    "\n",
    "# Print growth_rates list\n",
    "print(\"Growth rates: \", growth_rates)\n"
   ]
  },
  {
   "cell_type": "code",
   "execution_count": null,
   "id": "0ccccf19",
   "metadata": {},
   "outputs": [],
   "source": []
  }
 ],
 "metadata": {
  "kernelspec": {
   "display_name": "Python 3",
   "language": "python",
   "name": "python3"
  },
  "language_info": {
   "codemirror_mode": {
    "name": "ipython",
    "version": 3
   },
   "file_extension": ".py",
   "mimetype": "text/x-python",
   "name": "python",
   "nbconvert_exporter": "python",
   "pygments_lexer": "ipython3",
   "version": "3.8.5"
  }
 },
 "nbformat": 4,
 "nbformat_minor": 5
}
